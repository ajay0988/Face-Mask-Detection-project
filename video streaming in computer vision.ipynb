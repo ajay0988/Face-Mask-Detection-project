{
 "cells": [
  {
   "cell_type": "code",
   "execution_count": null,
   "metadata": {},
   "outputs": [],
   "source": [
    "import cv2"
   ]
  },
  {
   "cell_type": "code",
   "execution_count": null,
   "metadata": {},
   "outputs": [],
   "source": [
    "cap = cv2.VideoCapture(0)"
   ]
  },
  {
   "cell_type": "code",
   "execution_count": null,
   "metadata": {},
   "outputs": [],
   "source": [
    "while True:\n",
    "    status , photo = cap.read()\n",
    "    cphoto = photo[100:400 , 200:500]\n",
    "    #rphoto = cv2.resize(cphoto, (100,100))\n",
    "    #photo[0:100 , 0:100] = rphoto\n",
    "    #grey_photo = cv2.cvtColor(photo , cv2.COLOR_BGR2GRAY)\n",
    "    cv2.imshow('Video Streaming using WebCam' , photo)\n",
    "    if cv2.waitKey(10) == 27:\n",
    "        break\n",
    "    \n",
    "    \n",
    "cv2.destroyAllWindows()\n",
    "cap.release()"
   ]
  },
  {
   "cell_type": "code",
   "execution_count": null,
   "metadata": {},
   "outputs": [],
   "source": [
    "#cap1 = cv2.VideoCapture(1)"
   ]
  },
  {
   "cell_type": "code",
   "execution_count": null,
   "metadata": {},
   "outputs": [],
   "source": [
    "\n",
    "url = \"http://192.168.43.1:8080\" # Your url might be different, check the app\n",
    "#cap1 = cv2.VideoCapture(url+\"/video\")\n",
    "cap2 = cv2.VideoCapture(0)\n",
    "\n",
    "while True:\n",
    "    ret, frame = cap2.read() \n",
    "    if not ret:\n",
    "        continue\n",
    "    # Processing of image and other stuff here\n",
    "    cv2.imshow('Video Streaming using IPcamera', frame)\n",
    "    if cv2.waitKey(10) == 65:\n",
    "        break\n",
    "cv2.destroyAllWindows()\n",
    "cap2.release()"
   ]
  },
  {
   "cell_type": "code",
   "execution_count": null,
   "metadata": {},
   "outputs": [],
   "source": []
  },
  {
   "cell_type": "code",
   "execution_count": null,
   "metadata": {},
   "outputs": [],
   "source": []
  }
 ],
 "metadata": {
  "kernelspec": {
   "display_name": "Python 3",
   "language": "python",
   "name": "python3"
  },
  "language_info": {
   "codemirror_mode": {
    "name": "ipython",
    "version": 3
   },
   "file_extension": ".py",
   "mimetype": "text/x-python",
   "name": "python",
   "nbconvert_exporter": "python",
   "pygments_lexer": "ipython3",
   "version": "3.7.4"
  }
 },
 "nbformat": 4,
 "nbformat_minor": 2
}
